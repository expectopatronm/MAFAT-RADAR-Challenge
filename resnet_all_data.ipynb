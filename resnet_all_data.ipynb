{
  "nbformat": 4,
  "nbformat_minor": 0,
  "metadata": {
    "colab": {
      "name": "resnet_all_data",
      "provenance": [],
      "collapsed_sections": [],
      "machine_shape": "hm"
    },
    "kernelspec": {
      "name": "python3",
      "display_name": "Python 3"
    },
    "accelerator": "GPU"
  },
  "cells": [
    {
      "cell_type": "code",
      "metadata": {
        "id": "81Th83IIAblw"
      },
      "source": [
        "import warnings\n",
        "warnings.filterwarnings('ignore')"
      ],
      "execution_count": null,
      "outputs": []
    },
    {
      "cell_type": "code",
      "metadata": {
        "id": "i-LWkbSH0YKH",
        "outputId": "532a7cb0-13bb-4cbe-949b-6641e0497129",
        "colab": {
          "base_uri": "https://localhost:8080/",
          "height": 34
        }
      },
      "source": [
        "from google.colab import drive\n",
        "mount_path = '/content/gdrive/'\n",
        "drive.mount(mount_path)"
      ],
      "execution_count": null,
      "outputs": [
        {
          "output_type": "stream",
          "text": [
            "Mounted at /content/gdrive/\n"
          ],
          "name": "stdout"
        }
      ]
    },
    {
      "cell_type": "code",
      "metadata": {
        "id": "F_4vZETX0gQH"
      },
      "source": [
        "import os\n",
        "import random\n",
        "import numpy as np\n",
        "\n",
        "import tensorflow as tf\n",
        "from tensorflow.keras.models import Sequential, Model\n",
        "from tensorflow.keras.layers import Dense, Flatten, Conv2D, MaxPooling2D, Concatenate, Input, GlobalAveragePooling2D, Dropout, add, SeparableConv2D, BatchNormalization\n",
        "from tensorflow.keras.losses import BinaryCrossentropy\n",
        "from tensorflow.keras.optimizers import Adam\n",
        "from tensorflow.keras.metrics import AUC\n",
        "from tensorflow.keras.initializers import GlorotNormal\n",
        "from tensorflow.keras.callbacks import ModelCheckpoint\n",
        "from tensorflow.keras.utils import plot_model \n",
        "from tensorflow.keras.layers.experimental import RandomFourierFeatures\n",
        "from tensorflow.keras.layers import concatenate, Activation\n",
        "\n",
        "seed_value = 0\n",
        "os.environ['PYTHONHASHSEED'] = str(seed_value)\n",
        "os.environ['TF_CUDNN_DETERMINISTIC'] = '1'\n",
        "\n",
        "tf.compat.v1.reset_default_graph()\n",
        "\n",
        "random.seed(seed_value)\n",
        "np.random.seed(seed_value)\n",
        "tf.random.set_seed(seed_value)\n",
        "tf.compat.v1.set_random_seed(seed_value)\n",
        "\n",
        "session_conf = tf.compat.v1.ConfigProto(intra_op_parallelism_threads = 1, inter_op_parallelism_threads = 1)\n",
        "sess = tf.compat.v1.Session(graph = tf.compat.v1.get_default_graph(), config = session_conf)\n",
        "tf.compat.v1.keras.backend.set_session(sess)"
      ],
      "execution_count": null,
      "outputs": []
    },
    {
      "cell_type": "code",
      "metadata": {
        "id": "-nwjH6Ey0gSW"
      },
      "source": [
        "from my_utils.dataloader import load_data, load_pkl_data, load_csv_metadata, append_dict, split_train_val_iq\n",
        "from my_utils.pre_processor import data_preprocess\n",
        "from my_utils.metric import stats, feature_viewer"
      ],
      "execution_count": null,
      "outputs": []
    },
    {
      "cell_type": "code",
      "metadata": {
        "id": "OLe9p3T40gUM"
      },
      "source": [
        "training_path = 'gdrive/My Drive/Data/MAFAT RADAR Challenge - Training Set V1'\n",
        "synthetic_path = 'gdrive/My Drive/Data/MAFAT RADAR Challenge - Auxiliary Synthetic Set V2'\n",
        "experiment_path = 'gdrive/My Drive/Data/MAFAT RADAR Challenge - Auxiliary Experiment Set V2'\n",
        "private_path = 'gdrive/My Drive/Data/Phase 2 - Private/MAFAT RADAR Challenge - FULL Public Test Set V1'"
      ],
      "execution_count": null,
      "outputs": []
    },
    {
      "cell_type": "code",
      "metadata": {
        "id": "N9MrJFoU0gWZ"
      },
      "source": [
        "training_set_df = load_data(training_path)\n",
        "synthetic_set_df = load_data(synthetic_path)\n",
        "experiment_set_df = load_data(experiment_path)\n",
        "private_set_df = load_data(private_path)"
      ],
      "execution_count": null,
      "outputs": []
    },
    {
      "cell_type": "code",
      "metadata": {
        "id": "x5Mi30Kr0gYm"
      },
      "source": [
        "df = append_dict(training_set_df, experiment_set_df)\n",
        "df = append_dict(df, synthetic_set_df)\n",
        "df = append_dict(df, private_set_df)\n",
        "df = data_preprocess(df)"
      ],
      "execution_count": null,
      "outputs": []
    },
    {
      "cell_type": "code",
      "metadata": {
        "id": "tqtspZbw0mG_"
      },
      "source": [
        "train_x, train_y, val_x, val_y = split_train_val_iq(df)"
      ],
      "execution_count": null,
      "outputs": []
    },
    {
      "cell_type": "code",
      "metadata": {
        "id": "X9WuLAO2h3-K"
      },
      "source": [
        "np.save('train_x.npy',train_x)\n",
        "np.save('train_y.npy',train_y)\n",
        "np.save('val_x.npy',val_x)\n",
        "np.save('val_y.npy',val_y)"
      ],
      "execution_count": null,
      "outputs": []
    },
    {
      "cell_type": "code",
      "metadata": {
        "id": "g0XqtAF_iI-o"
      },
      "source": [
        "train_x = np.load('train_x.npy', allow_pickle = True)\n",
        "train_y = np.load('train_y.npy',  allow_pickle = True)\n",
        "\n",
        "from imblearn.over_sampling import SMOTE\n",
        "\n",
        "flattened_train_exp_x = []\n",
        "for sample in train_x:\n",
        "    flattened_train_exp_x.append(sample.flatten())\n",
        "flattened_train_exp_x = np.asarray(flattened_train_exp_x)\n",
        "\n",
        "smote_resampler = SMOTE(random_state = 0)\n",
        "X_res_train, y_res_train = smote_resampler.fit_resample(flattened_train_exp_x, train_y)\n",
        "np.save('train_x.npy', X_res_train)\n",
        "np.save('train_y.npy', y_res_train)"
      ],
      "execution_count": null,
      "outputs": []
    },
    {
      "cell_type": "code",
      "metadata": {
        "id": "SBIzQ30IiLrx"
      },
      "source": [
        "train_x = np.load('train_x.npy')\n",
        "x_1 = []\n",
        "for sample in train_x:\n",
        "    m = sample.reshape(126, 32)\n",
        "    x_1.append(m)\n",
        "x_1 = np.asarray(x_1)\n",
        "np.save('train_x.npy', x_1)\n",
        "\n",
        "val_x = np.load('val_x.npy')\n",
        "x_1 = []\n",
        "for sample in val_x:\n",
        "    m = sample.reshape(126, 32)\n",
        "    x_1.append(m)\n",
        "x_1 = np.asarray(x_1)\n",
        "np.save('val_x.npy', x_1)"
      ],
      "execution_count": null,
      "outputs": []
    },
    {
      "cell_type": "code",
      "metadata": {
        "id": "RcSORZkMbTHZ",
        "outputId": "3bc093ee-a3bb-4b34-9987-616b1efb94ff",
        "colab": {
          "base_uri": "https://localhost:8080/",
          "height": 34
        }
      },
      "source": [
        "train_x = np.load('train_x.npy', allow_pickle = True)\n",
        "train_y = np.load('train_y.npy', allow_pickle = True)\n",
        "val_x = np.load('val_x.npy', allow_pickle = True)\n",
        "val_y = np.load('val_y.npy', allow_pickle = True)\n",
        "\n",
        "val_y = val_y.astype(int)\n",
        "train_y = train_y.astype(int)\n",
        "train_x = train_x.reshape(list(train_x.shape) + [1])\n",
        "val_x = val_x.reshape(list(val_x.shape) + [1])\n",
        "print(train_x.shape, train_y.shape, val_x.shape, val_y.shape)"
      ],
      "execution_count": null,
      "outputs": [
        {
          "output_type": "stream",
          "text": [
            "(198086, 126, 32, 1) (198086,) (538, 126, 32, 1) (538,)\n"
          ],
          "name": "stdout"
        }
      ]
    },
    {
      "cell_type": "code",
      "metadata": {
        "id": "eX4raQrl-z1Y"
      },
      "source": [
        "def create_model(input_shape):\n",
        "\n",
        "  loss_function = BinaryCrossentropy()\n",
        "  optimizer = Adam(learning_rate = 0.00001)\n",
        "  init = GlorotNormal(seed = 0)\n",
        "  \n",
        "  inputs = Input(shape = input_shape)\n",
        "\n",
        "  x = Conv2D(32, 3, activation = 'relu', kernel_initializer = init, bias_regularizer = 'l2')(inputs)\n",
        "  x = Conv2D(64, 3, activation = 'relu', kernel_initializer = init, bias_regularizer = 'l2')(x)\n",
        "  block_1_output = MaxPooling2D(3)(x)\n",
        "\n",
        "  x = Conv2D(64, 3, activation = 'relu', padding = \"same\", kernel_initializer = init, bias_regularizer = 'l2')(block_1_output)\n",
        "  x = Conv2D(64, 3, activation = 'relu', padding = \"same\", kernel_initializer = init, bias_regularizer = 'l2')(x)\n",
        "  block_2_output = add([x, block_1_output])\n",
        "\n",
        "  x = Conv2D(64, 3, activation = 'relu', padding = \"same\", kernel_initializer = init, bias_regularizer = 'l2')(block_2_output)\n",
        "  x = Conv2D(64, 3, activation = 'relu', padding = \"same\", kernel_initializer = init, bias_regularizer = 'l2')(x)\n",
        "  block_3_output = add([x, block_2_output])\n",
        "\n",
        "  x = Conv2D(64, 3, activation = 'relu', padding = \"same\", kernel_initializer = init, bias_regularizer = 'l2')(block_3_output)\n",
        "  x = Conv2D(64, 3, activation = 'relu', padding = \"same\", kernel_initializer = init, bias_regularizer = 'l2')(x)\n",
        "  block_4_output = add([x, block_3_output])\n",
        "\n",
        "  x = Conv2D(64, 3, activation = 'relu', kernel_initializer = init, bias_regularizer = 'l2')(block_4_output)\n",
        "  x = GlobalAveragePooling2D()(x)\n",
        "  x = Dense(256, activation = 'relu', kernel_initializer = init, bias_regularizer = 'l2')(x)\n",
        "\n",
        "  outputs = Dense(1, activation = 'sigmoid', kernel_initializer = init)(x)\n",
        "\n",
        "  model = Model(inputs, outputs)\n",
        "\n",
        "  model.compile(loss = loss_function, optimizer = optimizer, metrics = [AUC(), 'accuracy'])\n",
        "  model.summary()\n",
        "\n",
        "  return model"
      ],
      "execution_count": null,
      "outputs": []
    },
    {
      "cell_type": "code",
      "metadata": {
        "id": "S64U1Ja-0gdZ",
        "outputId": "01a8dac8-10bb-45eb-b370-bf5ff4b2ba4f",
        "colab": {
          "base_uri": "https://localhost:8080/",
          "height": 782
        }
      },
      "source": [
        "no_epochs = 100\n",
        "batch_size = 64\n",
        "\n",
        "img_width, img_height = 126, 32\n",
        "input_shape = (img_width, img_height, 1)\n",
        "\n",
        "model = create_model(input_shape)"
      ],
      "execution_count": null,
      "outputs": [
        {
          "output_type": "stream",
          "text": [
            "Model: \"functional_1\"\n",
            "__________________________________________________________________________________________________\n",
            "Layer (type)                    Output Shape         Param #     Connected to                     \n",
            "==================================================================================================\n",
            "input_1 (InputLayer)            [(None, 126, 32, 1)] 0                                            \n",
            "__________________________________________________________________________________________________\n",
            "conv2d (Conv2D)                 (None, 124, 30, 32)  320         input_1[0][0]                    \n",
            "__________________________________________________________________________________________________\n",
            "conv2d_1 (Conv2D)               (None, 122, 28, 64)  18496       conv2d[0][0]                     \n",
            "__________________________________________________________________________________________________\n",
            "max_pooling2d (MaxPooling2D)    (None, 40, 9, 64)    0           conv2d_1[0][0]                   \n",
            "__________________________________________________________________________________________________\n",
            "conv2d_2 (Conv2D)               (None, 40, 9, 64)    36928       max_pooling2d[0][0]              \n",
            "__________________________________________________________________________________________________\n",
            "conv2d_3 (Conv2D)               (None, 40, 9, 64)    36928       conv2d_2[0][0]                   \n",
            "__________________________________________________________________________________________________\n",
            "add (Add)                       (None, 40, 9, 64)    0           conv2d_3[0][0]                   \n",
            "                                                                 max_pooling2d[0][0]              \n",
            "__________________________________________________________________________________________________\n",
            "conv2d_4 (Conv2D)               (None, 40, 9, 64)    36928       add[0][0]                        \n",
            "__________________________________________________________________________________________________\n",
            "conv2d_5 (Conv2D)               (None, 40, 9, 64)    36928       conv2d_4[0][0]                   \n",
            "__________________________________________________________________________________________________\n",
            "add_1 (Add)                     (None, 40, 9, 64)    0           conv2d_5[0][0]                   \n",
            "                                                                 add[0][0]                        \n",
            "__________________________________________________________________________________________________\n",
            "conv2d_6 (Conv2D)               (None, 40, 9, 64)    36928       add_1[0][0]                      \n",
            "__________________________________________________________________________________________________\n",
            "conv2d_7 (Conv2D)               (None, 40, 9, 64)    36928       conv2d_6[0][0]                   \n",
            "__________________________________________________________________________________________________\n",
            "add_2 (Add)                     (None, 40, 9, 64)    0           conv2d_7[0][0]                   \n",
            "                                                                 add_1[0][0]                      \n",
            "__________________________________________________________________________________________________\n",
            "conv2d_8 (Conv2D)               (None, 38, 7, 64)    36928       add_2[0][0]                      \n",
            "__________________________________________________________________________________________________\n",
            "global_average_pooling2d (Globa (None, 64)           0           conv2d_8[0][0]                   \n",
            "__________________________________________________________________________________________________\n",
            "dense (Dense)                   (None, 256)          16640       global_average_pooling2d[0][0]   \n",
            "__________________________________________________________________________________________________\n",
            "dense_1 (Dense)                 (None, 1)            257         dense[0][0]                      \n",
            "==================================================================================================\n",
            "Total params: 294,209\n",
            "Trainable params: 294,209\n",
            "Non-trainable params: 0\n",
            "__________________________________________________________________________________________________\n"
          ],
          "name": "stdout"
        }
      ]
    },
    {
      "cell_type": "code",
      "metadata": {
        "id": "09MJYp3vP_uU",
        "outputId": "5a2f8add-1b97-42da-ba00-200391b2823d",
        "colab": {
          "base_uri": "https://localhost:8080/",
          "height": 1000
        }
      },
      "source": [
        "plot_model(model)"
      ],
      "execution_count": null,
      "outputs": [
        {
          "output_type": "execute_result",
          "data": {
            "image/png": "[encoded data removed]",
            "text/plain": [
              "<IPython.core.display.Image object>"
            ]
          },
          "metadata": {
            "tags": []
          },
          "execution_count": 5
        }
      ]
    },
    {
      "cell_type": "code",
      "metadata": {
        "id": "69vbPA2T0ggc",
        "outputId": "2951ee8f-dca4-43a7-f0ef-671ffcebbed9",
        "colab": {
          "base_uri": "https://localhost:8080/",
          "height": 1000
        }
      },
      "source": [
        "checkpoint_filepath = '/content/gdrive/My Drive/weights.hdf5'\n",
        "\n",
        "model_checkpoint_callback = ModelCheckpoint(filepath = checkpoint_filepath, save_weights_only = False, monitor = 'val_auc', mode = 'max', save_best_only = True)\n",
        "\n",
        "model.fit(train_x, train_y, batch_size = batch_size, epochs = no_epochs, validation_data = (val_x, val_y), callbacks = [model_checkpoint_callback], use_multiprocessing = True)"
      ],
      "execution_count": null,
      "outputs": [
        {
          "output_type": "stream",
          "text": [
            "Epoch 1/100\n",
            "3096/3096 [==============================] - 66s 21ms/step - loss: 0.2710 - auc: 0.9574 - accuracy: 0.8783 - val_loss: 0.5993 - val_auc: 0.7912 - val_accuracy: 0.7193\n",
            "Epoch 2/100\n",
            "3096/3096 [==============================] - 65s 21ms/step - loss: 0.1501 - auc: 0.9865 - accuracy: 0.9422 - val_loss: 0.6390 - val_auc: 0.8148 - val_accuracy: 0.7119\n",
            "Epoch 3/100\n",
            "3096/3096 [==============================] - 65s 21ms/step - loss: 0.1281 - auc: 0.9900 - accuracy: 0.9507 - val_loss: 0.5460 - val_auc: 0.8310 - val_accuracy: 0.7454\n",
            "Epoch 4/100\n",
            "3096/3096 [==============================] - 66s 21ms/step - loss: 0.1130 - auc: 0.9921 - accuracy: 0.9569 - val_loss: 0.5652 - val_auc: 0.8387 - val_accuracy: 0.7472\n",
            "Epoch 5/100\n",
            "3096/3096 [==============================] - 65s 21ms/step - loss: 0.1033 - auc: 0.9933 - accuracy: 0.9603 - val_loss: 0.5887 - val_auc: 0.8454 - val_accuracy: 0.7286\n",
            "Epoch 6/100\n",
            "3096/3096 [==============================] - 65s 21ms/step - loss: 0.0970 - auc: 0.9940 - accuracy: 0.9629 - val_loss: 0.5050 - val_auc: 0.8572 - val_accuracy: 0.7714\n",
            "Epoch 7/100\n",
            "3096/3096 [==============================] - 66s 21ms/step - loss: 0.0921 - auc: 0.9945 - accuracy: 0.9646 - val_loss: 0.5298 - val_auc: 0.8587 - val_accuracy: 0.7528\n",
            "Epoch 8/100\n",
            "3096/3096 [==============================] - 66s 21ms/step - loss: 0.0878 - auc: 0.9950 - accuracy: 0.9666 - val_loss: 0.4871 - val_auc: 0.8680 - val_accuracy: 0.7807\n",
            "Epoch 9/100\n",
            "3096/3096 [==============================] - 65s 21ms/step - loss: 0.0848 - auc: 0.9953 - accuracy: 0.9678 - val_loss: 0.5991 - val_auc: 0.8635 - val_accuracy: 0.7342\n",
            "Epoch 10/100\n",
            "3096/3096 [==============================] - 65s 21ms/step - loss: 0.0829 - auc: 0.9954 - accuracy: 0.9684 - val_loss: 0.6045 - val_auc: 0.8646 - val_accuracy: 0.7323\n",
            "Epoch 11/100\n",
            "3096/3096 [==============================] - 65s 21ms/step - loss: 0.0807 - auc: 0.9957 - accuracy: 0.9699 - val_loss: 0.4821 - val_auc: 0.8743 - val_accuracy: 0.7788\n",
            "Epoch 12/100\n",
            "3096/3096 [==============================] - 65s 21ms/step - loss: 0.0792 - auc: 0.9958 - accuracy: 0.9701 - val_loss: 0.4968 - val_auc: 0.8721 - val_accuracy: 0.7900\n",
            "Epoch 13/100\n",
            "3096/3096 [==============================] - 65s 21ms/step - loss: 0.0770 - auc: 0.9960 - accuracy: 0.9711 - val_loss: 0.6361 - val_auc: 0.8684 - val_accuracy: 0.7230\n",
            "Epoch 14/100\n",
            "3096/3096 [==============================] - 65s 21ms/step - loss: 0.0755 - auc: 0.9962 - accuracy: 0.9715 - val_loss: 0.6641 - val_auc: 0.8640 - val_accuracy: 0.7119\n",
            "Epoch 15/100\n",
            "3096/3096 [==============================] - 66s 21ms/step - loss: 0.0736 - auc: 0.9963 - accuracy: 0.9721 - val_loss: 0.4959 - val_auc: 0.8755 - val_accuracy: 0.7751\n",
            "Epoch 16/100\n",
            "3096/3096 [==============================] - 65s 21ms/step - loss: 0.0740 - auc: 0.9963 - accuracy: 0.9719 - val_loss: 0.4989 - val_auc: 0.8755 - val_accuracy: 0.7714\n",
            "Epoch 17/100\n",
            "3096/3096 [==============================] - 65s 21ms/step - loss: 0.0720 - auc: 0.9965 - accuracy: 0.9728 - val_loss: 0.6084 - val_auc: 0.8731 - val_accuracy: 0.7305\n",
            "Epoch 18/100\n",
            "3096/3096 [==============================] - 65s 21ms/step - loss: 0.0713 - auc: 0.9965 - accuracy: 0.9732 - val_loss: 0.5090 - val_auc: 0.8808 - val_accuracy: 0.7844\n",
            "Epoch 19/100\n",
            "3096/3096 [==============================] - 65s 21ms/step - loss: 0.0691 - auc: 0.9967 - accuracy: 0.9740 - val_loss: 0.6058 - val_auc: 0.8757 - val_accuracy: 0.7305\n",
            "Epoch 20/100\n",
            "3096/3096 [==============================] - 65s 21ms/step - loss: 0.0675 - auc: 0.9969 - accuracy: 0.9743 - val_loss: 0.5355 - val_auc: 0.8761 - val_accuracy: 0.7714\n",
            "Epoch 21/100\n",
            "3096/3096 [==============================] - 65s 21ms/step - loss: 0.0674 - auc: 0.9968 - accuracy: 0.9748 - val_loss: 0.5181 - val_auc: 0.8822 - val_accuracy: 0.7677\n",
            "Epoch 22/100\n",
            "3096/3096 [==============================] - 65s 21ms/step - loss: 0.0663 - auc: 0.9970 - accuracy: 0.9748 - val_loss: 0.4573 - val_auc: 0.8849 - val_accuracy: 0.7974\n",
            "Epoch 23/100\n",
            "3096/3096 [==============================] - 65s 21ms/step - loss: 0.0656 - auc: 0.9970 - accuracy: 0.9752 - val_loss: 0.5326 - val_auc: 0.8832 - val_accuracy: 0.7677\n",
            "Epoch 24/100\n",
            "3096/3096 [==============================] - 65s 21ms/step - loss: 0.0645 - auc: 0.9971 - accuracy: 0.9755 - val_loss: 0.5975 - val_auc: 0.8823 - val_accuracy: 0.7398\n",
            "Epoch 25/100\n",
            "3096/3096 [==============================] - 65s 21ms/step - loss: 0.0635 - auc: 0.9972 - accuracy: 0.9759 - val_loss: 0.4698 - val_auc: 0.8909 - val_accuracy: 0.7937\n",
            "Epoch 26/100\n",
            "3096/3096 [==============================] - 65s 21ms/step - loss: 0.0622 - auc: 0.9973 - accuracy: 0.9765 - val_loss: 0.4537 - val_auc: 0.8896 - val_accuracy: 0.8086\n",
            "Epoch 27/100\n",
            "3096/3096 [==============================] - 65s 21ms/step - loss: 0.0622 - auc: 0.9973 - accuracy: 0.9768 - val_loss: 0.5456 - val_auc: 0.8875 - val_accuracy: 0.7621\n",
            "Epoch 28/100\n",
            "3096/3096 [==============================] - 65s 21ms/step - loss: 0.0615 - auc: 0.9974 - accuracy: 0.9767 - val_loss: 0.6909 - val_auc: 0.8853 - val_accuracy: 0.7193\n",
            "Epoch 29/100\n",
            "3096/3096 [==============================] - 65s 21ms/step - loss: 0.0600 - auc: 0.9975 - accuracy: 0.9777 - val_loss: 0.6236 - val_auc: 0.8849 - val_accuracy: 0.7398\n",
            "Epoch 30/100\n",
            "3096/3096 [==============================] - 65s 21ms/step - loss: 0.0597 - auc: 0.9975 - accuracy: 0.9774 - val_loss: 0.6089 - val_auc: 0.8867 - val_accuracy: 0.7416\n",
            "Epoch 31/100\n",
            "3096/3096 [==============================] - 65s 21ms/step - loss: 0.0579 - auc: 0.9976 - accuracy: 0.9783 - val_loss: 0.4589 - val_auc: 0.8949 - val_accuracy: 0.7918\n",
            "Epoch 32/100\n",
            "3096/3096 [==============================] - 65s 21ms/step - loss: 0.0588 - auc: 0.9976 - accuracy: 0.9781 - val_loss: 0.4479 - val_auc: 0.8928 - val_accuracy: 0.8030\n",
            "Epoch 33/100\n",
            "3096/3096 [==============================] - 65s 21ms/step - loss: 0.0574 - auc: 0.9977 - accuracy: 0.9787 - val_loss: 0.4592 - val_auc: 0.8953 - val_accuracy: 0.8086\n",
            "Epoch 34/100\n",
            "3096/3096 [==============================] - 65s 21ms/step - loss: 0.0572 - auc: 0.9977 - accuracy: 0.9789 - val_loss: 0.5791 - val_auc: 0.8887 - val_accuracy: 0.7658\n",
            "Epoch 35/100\n",
            "3096/3096 [==============================] - 65s 21ms/step - loss: 0.0567 - auc: 0.9977 - accuracy: 0.9788 - val_loss: 0.4473 - val_auc: 0.8967 - val_accuracy: 0.7993\n",
            "Epoch 36/100\n",
            "3096/3096 [==============================] - 65s 21ms/step - loss: 0.0553 - auc: 0.9978 - accuracy: 0.9789 - val_loss: 0.5412 - val_auc: 0.8957 - val_accuracy: 0.7621\n",
            "Epoch 37/100\n",
            "3096/3096 [==============================] - 65s 21ms/step - loss: 0.0550 - auc: 0.9979 - accuracy: 0.9792 - val_loss: 0.6870 - val_auc: 0.8917 - val_accuracy: 0.7361\n",
            "Epoch 38/100\n",
            "3096/3096 [==============================] - 65s 21ms/step - loss: 0.0537 - auc: 0.9979 - accuracy: 0.9799 - val_loss: 0.4569 - val_auc: 0.8992 - val_accuracy: 0.8216\n",
            "Epoch 39/100\n",
            "3096/3096 [==============================] - 65s 21ms/step - loss: 0.0536 - auc: 0.9979 - accuracy: 0.9801 - val_loss: 0.4910 - val_auc: 0.8967 - val_accuracy: 0.7993\n",
            "Epoch 40/100\n",
            "3096/3096 [==============================] - 65s 21ms/step - loss: 0.0526 - auc: 0.9980 - accuracy: 0.9803 - val_loss: 0.4819 - val_auc: 0.8986 - val_accuracy: 0.8067\n",
            "Epoch 41/100\n",
            "3096/3096 [==============================] - 65s 21ms/step - loss: 0.0519 - auc: 0.9981 - accuracy: 0.9805 - val_loss: 0.4311 - val_auc: 0.9043 - val_accuracy: 0.8160\n",
            "Epoch 42/100\n",
            "3096/3096 [==============================] - 65s 21ms/step - loss: 0.0514 - auc: 0.9981 - accuracy: 0.9808 - val_loss: 0.4633 - val_auc: 0.9017 - val_accuracy: 0.8067\n",
            "Epoch 43/100\n",
            "3096/3096 [==============================] - 65s 21ms/step - loss: 0.0513 - auc: 0.9981 - accuracy: 0.9808 - val_loss: 0.4926 - val_auc: 0.9043 - val_accuracy: 0.7825\n",
            "Epoch 44/100\n",
            "3096/3096 [==============================] - 65s 21ms/step - loss: 0.0507 - auc: 0.9982 - accuracy: 0.9810 - val_loss: 0.4424 - val_auc: 0.9022 - val_accuracy: 0.8104\n",
            "Epoch 45/100\n",
            "3096/3096 [==============================] - 65s 21ms/step - loss: 0.0497 - auc: 0.9982 - accuracy: 0.9814 - val_loss: 0.5305 - val_auc: 0.8978 - val_accuracy: 0.7807\n",
            "Epoch 46/100\n",
            "3096/3096 [==============================] - 65s 21ms/step - loss: 0.0497 - auc: 0.9982 - accuracy: 0.9814 - val_loss: 0.4325 - val_auc: 0.9069 - val_accuracy: 0.8178\n",
            "Epoch 47/100\n",
            "3096/3096 [==============================] - 65s 21ms/step - loss: 0.0490 - auc: 0.9983 - accuracy: 0.9818 - val_loss: 0.4713 - val_auc: 0.9058 - val_accuracy: 0.8011\n",
            "Epoch 48/100\n",
            "3096/3096 [==============================] - 65s 21ms/step - loss: 0.0476 - auc: 0.9983 - accuracy: 0.9824 - val_loss: 0.4636 - val_auc: 0.9055 - val_accuracy: 0.8104\n",
            "Epoch 49/100\n",
            "3096/3096 [==============================] - 65s 21ms/step - loss: 0.0481 - auc: 0.9983 - accuracy: 0.9820 - val_loss: 0.4327 - val_auc: 0.9058 - val_accuracy: 0.8030\n",
            "Epoch 50/100\n",
            "3096/3096 [==============================] - 65s 21ms/step - loss: 0.0470 - auc: 0.9984 - accuracy: 0.9822 - val_loss: 0.4156 - val_auc: 0.9100 - val_accuracy: 0.8253\n",
            "Epoch 51/100\n",
            "3096/3096 [==============================] - 65s 21ms/step - loss: 0.0470 - auc: 0.9984 - accuracy: 0.9823 - val_loss: 0.4219 - val_auc: 0.9082 - val_accuracy: 0.8253\n",
            "Epoch 52/100\n",
            "3096/3096 [==============================] - 65s 21ms/step - loss: 0.0468 - auc: 0.9983 - accuracy: 0.9824 - val_loss: 0.5234 - val_auc: 0.8996 - val_accuracy: 0.7937\n",
            "Epoch 53/100\n",
            "3096/3096 [==============================] - 65s 21ms/step - loss: 0.0455 - auc: 0.9985 - accuracy: 0.9829 - val_loss: 0.4307 - val_auc: 0.9100 - val_accuracy: 0.8216\n",
            "Epoch 54/100\n",
            "3096/3096 [==============================] - 65s 21ms/step - loss: 0.0452 - auc: 0.9985 - accuracy: 0.9832 - val_loss: 0.4640 - val_auc: 0.9094 - val_accuracy: 0.7993\n",
            "Epoch 55/100\n",
            "3096/3096 [==============================] - 65s 21ms/step - loss: 0.0446 - auc: 0.9985 - accuracy: 0.9834 - val_loss: 0.6321 - val_auc: 0.9048 - val_accuracy: 0.7639\n",
            "Epoch 56/100\n",
            "3096/3096 [==============================] - 65s 21ms/step - loss: 0.0444 - auc: 0.9985 - accuracy: 0.9836 - val_loss: 0.5998 - val_auc: 0.9051 - val_accuracy: 0.7770\n",
            "Epoch 57/100\n",
            "3096/3096 [==============================] - 65s 21ms/step - loss: 0.0439 - auc: 0.9986 - accuracy: 0.9836 - val_loss: 0.6586 - val_auc: 0.8967 - val_accuracy: 0.7639\n",
            "Epoch 58/100\n",
            "3096/3096 [==============================] - 65s 21ms/step - loss: 0.0429 - auc: 0.9986 - accuracy: 0.9842 - val_loss: 0.5929 - val_auc: 0.9084 - val_accuracy: 0.7788\n",
            "Epoch 59/100\n",
            "3096/3096 [==============================] - 65s 21ms/step - loss: 0.0425 - auc: 0.9987 - accuracy: 0.9842 - val_loss: 0.5471 - val_auc: 0.9036 - val_accuracy: 0.8030\n",
            "Epoch 60/100\n",
            "3096/3096 [==============================] - 65s 21ms/step - loss: 0.0421 - auc: 0.9987 - accuracy: 0.9844 - val_loss: 0.4597 - val_auc: 0.9099 - val_accuracy: 0.8197\n",
            "Epoch 61/100\n",
            "3096/3096 [==============================] - 65s 21ms/step - loss: 0.0421 - auc: 0.9987 - accuracy: 0.9844 - val_loss: 0.4509 - val_auc: 0.9072 - val_accuracy: 0.8160\n",
            "Epoch 62/100\n",
            " 490/3096 [===>..........................] - ETA: 54s - loss: 0.0440 - auc: 0.9986 - accuracy: 0.9831"
          ],
          "name": "stdout"
        }
      ]
    },
    {
      "cell_type": "code",
      "metadata": {
        "id": "EqXpz-Wq0sjm"
      },
      "source": [
        "checkpoint_filepath = '/content/gdrive/My Drive/weights.hdf5'\n",
        "model.load_weights(checkpoint_filepath)"
      ],
      "execution_count": null,
      "outputs": []
    },
    {
      "cell_type": "code",
      "metadata": {
        "id": "uWBwxaVT0sl_"
      },
      "source": [
        "pred = [model.predict(train_x), model.predict(val_x)]\n",
        "actual = [train_y, val_y]\n",
        "stats(pred, actual)"
      ],
      "execution_count": null,
      "outputs": []
    },
    {
      "cell_type": "code",
      "metadata": {
        "id": "pJv-d4p50vsX"
      },
      "source": [
        "test_path = 'gdrive/My Drive/Data/Phase 2 - Private/MAFAT RADAR Challenge - Private Test Set V1'\n",
        "test_df = load_data(test_path)\n",
        "test_df = data_preprocess(test_df.copy())\n",
        "test_x = test_df['iq_sweep_burst']\n",
        "test_x = test_x.reshape(list(test_x.shape) + [1])\n",
        "\n",
        "import pandas as pd\n",
        "submission = pd.DataFrame()\n",
        "\n",
        "submission['segment_id'] = test_df['segment_id']\n",
        "submission['prediction'] = model.predict(test_x)\n",
        "submission['prediction'] = submission['prediction'].astype('float')"
      ],
      "execution_count": null,
      "outputs": []
    },
    {
      "cell_type": "code",
      "metadata": {
        "id": "64Fux5IGSUvs"
      },
      "source": [
        "feature_viewer(model, val_x[0])"
      ],
      "execution_count": null,
      "outputs": []
    },
    {
      "cell_type": "code",
      "metadata": {
        "id": "cxMuuSRgKDiP"
      },
      "source": [
        ""
      ],
      "execution_count": null,
      "outputs": []
    },
    {
      "cell_type": "code",
      "metadata": {
        "id": "JkG53ojW0yIA"
      },
      "source": [
        "submission.to_csv('submission.csv', index = False)\n",
        "\n",
        "from zipfile import ZipFile\n",
        "\n",
        "with ZipFile('submission.zip', 'w') as myzip:\n",
        "  myzip.write('submission.csv')"
      ],
      "execution_count": null,
      "outputs": []
    },
    {
      "cell_type": "code",
      "metadata": {
        "id": "QiNG0NOivJGg"
      },
      "source": [
        ""
      ],
      "execution_count": null,
      "outputs": []
    }
  ]
}